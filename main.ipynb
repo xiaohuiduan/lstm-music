{
 "metadata": {
  "language_info": {
   "codemirror_mode": {
    "name": "ipython",
    "version": 3
   },
   "file_extension": ".py",
   "mimetype": "text/x-python",
   "name": "python",
   "nbconvert_exporter": "python",
   "pygments_lexer": "ipython3",
   "version": "3.7.6-final"
  },
  "orig_nbformat": 2,
  "kernelspec": {
   "name": "python3",
   "display_name": "Python 3",
   "language": "python"
  }
 },
 "nbformat": 4,
 "nbformat_minor": 2,
 "cells": [
  {
   "cell_type": "code",
   "execution_count": null,
   "metadata": {},
   "outputs": [],
   "source": [
    "from music21 import converter, instrument, note, chord, stream\n",
    "\n",
    "def get_notes(song_path,song_names):\n",
    "    \"\"\"获得midi音乐文件中的音符\n",
    "\n",
    "    :param song_path: [文件的保存地址]\n",
    "    :type song_path: [str]\n",
    "    :param song_names: [所有音乐文件的文件名]\n",
    "    :type song_names: [list]\n",
    "    :return: [所有符合要求的音符]\n",
    "    :rtype: [list]\n",
    "    \"\"\"\n",
    "    all_notes = []\n",
    "    for song_name in song_names:\n",
    "        stream = converter.parse(song_path+song_name)\n",
    "        instru = instrument.partitionByInstrument(stream)\n",
    "        if instru:  # 如果有乐器部分，取第一个乐器部分\n",
    "            notes = instru.parts[0].recurse()\n",
    "        else:  #如果没有乐器部分，直接取note\n",
    "            notes = stream.flat.notes\n",
    "        for element in notes:\n",
    "            # 如果是 Note 类型，取音调\n",
    "            # 如果是 Chord 类型，取音调的序号,存int类型比较容易处理\n",
    "            if isinstance(element, note.Note):\n",
    "                all_notes.append(str(element.pitch))\n",
    "            elif isinstance(element, chord.Chord):\n",
    "                all_notes.append('.'.join(str(n) for n in element.normalOrder))\n",
    "    return all_notes"
   ]
  },
  {
   "cell_type": "code",
   "execution_count": null,
   "metadata": {},
   "outputs": [],
   "source": [
    "def save_data(filename,content):\n",
    "    \"\"\"保存音符\n",
    "\n",
    "    :param filename: [保存的文件名]\n",
    "    :type filename: [str]\n",
    "    :param content: [内容]\n",
    "    :type content: [list]]\n",
    "    \"\"\"\n",
    "    with open(filename,\"w\") as f:\n",
    "        for data in content:\n",
    "            f.write(str(data)+\"\\n\")\n",
    "\n",
    "def get_data(filename):\n",
    "    \"\"\"从文件中获取音符\n",
    "\n",
    "    :param filename: [文件名]\n",
    "    :type filename: [str]\n",
    "    :return: [返回音符]\n",
    "    :rtype: [list]\n",
    "    \"\"\"\n",
    "    with open(filename) as f:\n",
    "       all_notes = f.readlines()\n",
    "    return [ note[:len(note)-1]  for note in all_notes]"
   ]
  },
  {
   "cell_type": "code",
   "execution_count": null,
   "metadata": {},
   "outputs": [],
   "source": [
    "import os\n",
    "song_path = \"./midi_songs/\"\n",
    "song_names = os.listdir(song_path)"
   ]
  },
  {
   "cell_type": "code",
   "execution_count": null,
   "metadata": {},
   "outputs": [],
   "source": [
    "# 获取note数组\n",
    "all_notes = get_notes(song_path,song_names)\n",
    "# 保存文件\n",
    "save_data(\"data.txt\",all_notes)"
   ]
  },
  {
   "cell_type": "code",
   "execution_count": null,
   "metadata": {},
   "outputs": [],
   "source": [
    "from collections import Counter\n",
    "# 对出现过的note进行统计\n",
    "counter = Counter(all_notes)\n",
    "# 根据出现的次数，进行从大到小的排序\n",
    "note_count = sorted(counter.items(),key=lambda x : -x[1])\n",
    "notes,_ = zip(*note_count)\n",
    "# 产生note到id的映射\n",
    "note_to_id = {note:id for id,note in enumerate(notes)}"
   ]
  },
  {
   "cell_type": "code",
   "execution_count": null,
   "metadata": {},
   "outputs": [],
   "source": [
    "print(list(note_to_id.items())[:20])"
   ]
  },
  {
   "cell_type": "code",
   "execution_count": null,
   "metadata": {},
   "outputs": [],
   "source": [
    "X_train = []\n",
    "Y_train = []\n",
    "sequence_batch = 100\n",
    "for i in range(len(all_notes)-sequence_batch):\n",
    "    X_pre = all_notes[i:i+sequence_batch]\n",
    "    Y_pre = all_notes[i+sequence_batch]\n",
    "    X_train.append([note_to_id[note] for note in X_pre])\n",
    "    Y_train.append(note_to_id[Y_pre])"
   ]
  },
  {
   "cell_type": "code",
   "execution_count": null,
   "metadata": {},
   "outputs": [],
   "source": [
    "print(X_train[:2])"
   ]
  },
  {
   "cell_type": "code",
   "execution_count": null,
   "metadata": {},
   "outputs": [],
   "source": [
    "from keras.utils import to_categorical\n",
    "X_one_hot = to_categorical(X_train)\n",
    "Y_one_hot = to_categorical(Y_train)"
   ]
  },
  {
   "cell_type": "code",
   "execution_count": null,
   "metadata": {},
   "outputs": [],
   "source": [
    "print(\"X_one_hot shape is:\",X_one_hot.shape)\n",
    "print(\"Y_one_hot shape is:\",Y_one_hot.shape)"
   ]
  },
  {
   "cell_type": "code",
   "execution_count": null,
   "metadata": {},
   "outputs": [],
   "source": [
    "import keras\n",
    "from keras.callbacks import ModelCheckpoint\n",
    "from keras.models import Input, Model\n",
    "from keras.layers import  Dropout, Dense,LSTM \n",
    "from keras.optimizers import Adam\n",
    "from keras.utils import plot_model\n",
    "# X_one_hot.shape[1:] = (100, 308)\n",
    "input_tensor = Input(shape=X_one_hot.shape[1:])\n",
    "lstm = LSTM(512,return_sequences=True)(input_tensor)\n",
    "dropout = Dropout(0.3)(lstm)\n",
    "\n",
    "lstm = LSTM(256)(dropout)\n",
    "dropout = Dropout(0.3)(lstm)\n",
    "# Y_one_hot.shape[-1] = 308\n",
    "dense = Dense(Y_one_hot.shape[-1], activation='softmax')(dropout)\n",
    "\n",
    "model = Model(inputs=input_tensor, outputs=dense)\n",
    "# 画图\n",
    "# plot_model(model, to_file='model.png', show_shapes=True, expand_nested=True, dpi=500)\n",
    "optimizer = Adam(lr=0.001)\n",
    "model.compile(loss='categorical_crossentropy', optimizer=optimizer, metrics=['accuracy'])\n",
    "model.summary()"
   ]
  },
  {
   "cell_type": "code",
   "execution_count": null,
   "metadata": {},
   "outputs": [],
   "source": [
    "filepath = \"./{epoch}--weights{loss:.2f}.hdf5\"\n",
    "checkpoint = ModelCheckpoint(\n",
    "    filepath,\n",
    "    monitor='loss',  # 监控的对象是loss\n",
    "    verbose=0,\n",
    "    save_best_only=True,\n",
    "    mode='min'  # 如果监控对象是val_acc则取max，是loss则取min\n",
    ")\n",
    "callbacks_list = [checkpoint]\n",
    "model.fit(X_one_hot, Y_one_hot, epochs=100, batch_size=2048,callbacks=callbacks_list)"
   ]
  }
 ]
}