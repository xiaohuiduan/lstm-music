{
 "metadata": {
  "language_info": {
   "codemirror_mode": {
    "name": "ipython",
    "version": 3
   },
   "file_extension": ".py",
   "mimetype": "text/x-python",
   "name": "python",
   "nbconvert_exporter": "python",
   "pygments_lexer": "ipython3",
   "version": "3.7.6-final"
  },
  "orig_nbformat": 2,
  "kernelspec": {
   "name": "python3",
   "display_name": "Python 3",
   "language": "python"
  }
 },
 "nbformat": 4,
 "nbformat_minor": 2,
 "cells": [
  {
   "cell_type": "code",
   "execution_count": 4,
   "metadata": {},
   "outputs": [],
   "source": [
    "def get_data(filename):\n",
    "    \"\"\"从文件中获取音符\n",
    "\n",
    "    :param filename: [文件名]\n",
    "    :type filename: [str]\n",
    "    :return: [返回音符]\n",
    "    :rtype: [list]\n",
    "    \"\"\"\n",
    "    with open(filename) as f:\n",
    "       all_notes = f.readlines()\n",
    "    return [ note[:len(note)-1]  for note in all_notes]"
   ]
  },
  {
   "cell_type": "code",
   "execution_count": 5,
   "metadata": {},
   "outputs": [],
   "source": [
    "# 从保存的数据集中获得数据\n",
    "all_notes = get_data(\"data.txt\")"
   ]
  },
  {
   "cell_type": "code",
   "execution_count": 6,
   "metadata": {},
   "outputs": [],
   "source": [
    "# 加载模型\n",
    "from keras.models import load_model\n",
    "model = load_model(\"weights-804-0.01.hdf5\")"
   ]
  },
  {
   "cell_type": "code",
   "execution_count": 7,
   "metadata": {},
   "outputs": [],
   "source": [
    "from collections import Counter\n",
    "from keras.utils import to_categorical\n",
    "\n",
    "counter = Counter(all_notes)\n",
    "note_count = sorted(counter.items(),key=lambda x : -x[1])\n",
    "notes,_ = zip(*note_count)\n",
    "# note到id的映射\n",
    "note_to_id = {note:id for id,note in enumerate(notes)}\n",
    "# id到note的映射\n",
    "id_to_note = {id:note for id,note in enumerate(notes)}\n",
    "# 构建X_train，目的是随机从X_one_hot选择一个数据，然后进行predict \n",
    "X_train = []\n",
    "sequence_batch = 100\n",
    "for i in range(len(all_notes)-sequence_batch):\n",
    "    X_pre = all_notes[i:i+sequence_batch]\n",
    "    X_train.append([note_to_id[note] for note in X_pre])\n",
    "X_one_hot = to_categorical(X_train)"
   ]
  },
  {
   "cell_type": "code",
   "execution_count": 14,
   "metadata": {},
   "outputs": [],
   "source": [
    "def predict_next(X_predict):\n",
    "    \"\"\"通过前100个音符，预测下一个音符\n",
    "\n",
    "    :param X_predict: [前100个音符]\n",
    "    :type X_predict: [list]\n",
    "    :return: [下一个音符的id]\n",
    "    :rtype: [int]\n",
    "    \"\"\"\n",
    "    prediction = model.predict(X_predict)\n",
    "    index = np.argmax(prediction)\n",
    "    return index"
   ]
  },
  {
   "cell_type": "code",
   "execution_count": 25,
   "metadata": {},
   "outputs": [],
   "source": [
    "import numpy as np\n",
    "from music21 import converter, instrument, note, chord, stream\n",
    "def generate_notes():\n",
    "    \"\"\"随机从X_one_hot抽取一个数据（长为100），然后进行predict，最后生成音乐\n",
    "\n",
    "    :return: [note数组（['D5', '2.6', 'F#5', 'D3', ……]）]\n",
    "    :rtype: [list]\n",
    "    \"\"\"\n",
    "    # 随机从X_one_hot选择一个数据进行predict\n",
    "    randindex = np.random.randint(0, len(X_one_hot) - 1)\n",
    "    predict_input = X_one_hot[randindex]\n",
    "    # music_output里面是一个数组，如['D5', '2.6', 'F#5', 'D3', 'E5', '2.6', 'G5', 'F#5']\n",
    "    music_output = [id_to_note[id] for id in X_train[randindex]]\n",
    "    # 产生长度为1000的音符序列\n",
    "    for note_index in range(1000):\n",
    "        prediction_input = np.reshape(predict_input, (1,X_one_hot.shape[1],X_one_hot.shape[2]))\n",
    "        # 预测下一个音符id\n",
    "        predict_index = predict_next(prediction_input)\n",
    "        # 将id转换成音符\n",
    "        music_note = id_to_note[predict_index]\n",
    "        music_output.append(music_note)\n",
    "        # X_one_hot.shape[-1] = 308\n",
    "        one_hot_note = np.zeros(X_one_hot.shape[-1])\n",
    "        one_hot_note[predict_index] = 1\n",
    "        one_hot_note = np.reshape(one_hot_note,(1,X_one_hot.shape[-1]))\n",
    "        # 重新构建LSTM的输入\n",
    "        predict_input = np.concatenate((predict_input[1:],one_hot_note))\n",
    "    return music_output"
   ]
  },
  {
   "cell_type": "code",
   "execution_count": 21,
   "metadata": {},
   "outputs": [],
   "source": [
    "def create_music(result_data,filename):\n",
    "    \"\"\"生成mid音乐，然后进行保存\n",
    "\n",
    "    :param result_data: [音符列表]\n",
    "    :type result_data: [list]\n",
    "    :param filename: [文件名]\n",
    "    :type filename: [str]\n",
    "    \"\"\"\n",
    "    result_data = [str(data) for data in result_data]\n",
    "    offset = 0\n",
    "    output_notes = []\n",
    "    # 生成 Note（音符）或 Chord（和弦）对象\n",
    "    for data in result_data:\n",
    "        if ('.' in data) or data.isdigit():\n",
    "            notes_in_chord = data.split('.')\n",
    "            notes = []\n",
    "            for current_note in notes_in_chord:\n",
    "                new_note = note.Note(int(current_note))\n",
    "                new_note.storedInstrument = instrument.Piano()\n",
    "                notes.append(new_note)\n",
    "            new_chord = chord.Chord(notes)\n",
    "            new_chord.offset = offset\n",
    "            output_notes.append(new_chord)\n",
    "\n",
    "        else:\n",
    "            new_note = note.Note(data)\n",
    "            new_note.offset = offset\n",
    "            new_note.storedInstrument = instrument.Piano()\n",
    "            output_notes.append(new_note)\n",
    "        offset += 1\n",
    "    # 创建音乐流（Stream）\n",
    "    midi_stream = stream.Stream(output_notes)\n",
    "    # 写入 MIDI 文件\n",
    "    midi_stream.write('midi', fp=filename+'.mid')"
   ]
  },
  {
   "cell_type": "code",
   "execution_count": 26,
   "metadata": {},
   "outputs": [],
   "source": [
    "predict_notes = generate_notes()"
   ]
  },
  {
   "cell_type": "code",
   "execution_count": 27,
   "metadata": {},
   "outputs": [],
   "source": [
    "create_music(predict_notes,\"auto_music\")"
   ]
  },
  {
   "cell_type": "code",
   "execution_count": 1,
   "metadata": {},
   "outputs": [
    {
     "output_type": "execute_result",
     "data": {
      "text/plain": [
       "'2.4.3'"
      ]
     },
     "metadata": {},
     "execution_count": 1
    }
   ],
   "source": [
    "import keras\n",
    "keras.__version__"
   ]
  }
 ]
}